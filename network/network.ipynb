{
 "cells": [
  {
   "cell_type": "code",
   "execution_count": 1,
   "metadata": {},
   "outputs": [],
   "source": [
    "##Dataset"
   ]
  },
  {
   "cell_type": "code",
   "execution_count": 35,
   "metadata": {},
   "outputs": [
    {
     "ename": "ModuleNotFoundError",
     "evalue": "No module named 'pandas'",
     "output_type": "error",
     "traceback": [
      "\u001b[0;31m---------------------------------------------------------------------------\u001b[0m",
      "\u001b[0;31mModuleNotFoundError\u001b[0m                       Traceback (most recent call last)",
      "\u001b[0;32m<ipython-input-35-93180569c9f4>\u001b[0m in \u001b[0;36m<module>\u001b[0;34m\u001b[0m\n\u001b[1;32m     12\u001b[0m \u001b[0;32mimport\u001b[0m \u001b[0mcsv\u001b[0m\u001b[0;34m\u001b[0m\u001b[0;34m\u001b[0m\u001b[0m\n\u001b[1;32m     13\u001b[0m \u001b[0;34m\u001b[0m\u001b[0m\n\u001b[0;32m---> 14\u001b[0;31m \u001b[0;32mimport\u001b[0m \u001b[0mpandas\u001b[0m \u001b[0;32mas\u001b[0m \u001b[0mpd\u001b[0m\u001b[0;34m\u001b[0m\u001b[0;34m\u001b[0m\u001b[0m\n\u001b[0m",
      "\u001b[0;31mModuleNotFoundError\u001b[0m: No module named 'pandas'"
     ]
    }
   ],
   "source": [
    "from __future__ import absolute_import\n",
    "from __future__ import print_function\n",
    "\n",
    "import os\n",
    "import sys\n",
    "import optparse\n",
    "import subprocess\n",
    "import random\n",
    "\n",
    "import sqlite3\n",
    "\n",
    "import csv\n",
    "\n",
    "import pandas as pd"
   ]
  },
  {
   "cell_type": "code",
   "execution_count": 28,
   "metadata": {},
   "outputs": [],
   "source": [
    "conn = sqlite3.connect('database.db')\n",
    "conn.text_factory = str\n",
    "c = conn.cursor()"
   ]
  },
  {
   "cell_type": "code",
   "execution_count": 27,
   "metadata": {},
   "outputs": [
    {
     "data": {
      "text/plain": [
       "<sqlite3.Cursor at 0x7f33446942d0>"
      ]
     },
     "execution_count": 27,
     "metadata": {},
     "output_type": "execute_result"
    }
   ],
   "source": [
    "c.execute(\"DROP TABLE IF EXISTS basic_information\")\n",
    "conn.commit()\n",
    "c.execute('''CREATE TABLE basic_information(\n",
    "  SEQN int,\n",
    "  RIAGENDR integer\n",
    ")''')\n",
    "\n",
    "c.execute(\"CREATE INDEX seqn_info on basic_information (SEQN)\")"
   ]
  },
  {
   "cell_type": "code",
   "execution_count": 8,
   "metadata": {},
   "outputs": [],
   "source": [
    "files = [\"data/2007-2008/DEMO_E.csv\", \"data/2009-2010/DEMO_F.csv\"]\n",
    "for filename in files:\n",
    "    with open(filename, mode='r') as csv_file:\n",
    "          csv_reader = csv.DictReader(csv_file)\n",
    "          for row in csv_reader:\n",
    "             c.execute(\"SELECT SEQN FROM basic_information WHERE SEQN = '\" +row[\"SEQN\"] + \"'\")\n",
    "             if c.fetchone() == None:\n",
    "                c.execute(\"INSERT INTO basic_information(SEQN, RIAGENDR) VALUES(?, ?)\", (row[\"SEQN\"], row[\"RIAGENDR\"]))\n",
    "conn.commit()"
   ]
  },
  {
   "cell_type": "code",
   "execution_count": 9,
   "metadata": {},
   "outputs": [
    {
     "data": {
      "text/plain": [
       "<sqlite3.Cursor at 0x7f33446942d0>"
      ]
     },
     "execution_count": 9,
     "metadata": {},
     "output_type": "execute_result"
    }
   ],
   "source": [
    "c.execute(\"DROP TABLE IF EXISTS bowel_health\")\n",
    "conn.commit()\n",
    "c.execute('''CREATE TABLE bowel_health(\n",
    "  SEQN int, \n",
    "  BHQ010 integer,\n",
    "  BHQ010_b integer DEFAULT 0, \n",
    "  BHQ020 integer,\n",
    "  BHQ020_b integer DEFAULT 0, \n",
    "  BHQ030 integer,\n",
    "  BHQ030_b integer DEFAULT 0, \n",
    "  BHQ040 integer,\n",
    "  BHQ040_b integer DEFAULT 0, \n",
    "  BHD050 integer,\n",
    "  BHD050_b integer DEFAULT 0\n",
    ")''')\n",
    "\n",
    "c.execute(\"CREATE INDEX seqn_bowel on bowel_health (SEQN)\")"
   ]
  },
  {
   "cell_type": "code",
   "execution_count": 10,
   "metadata": {},
   "outputs": [],
   "source": [
    "files = [\"data/2007-2008/BHQ_E.csv\", \"data/2009-2010/BHQ_F.csv\"]\n",
    "for filename in files:\n",
    "    with open(filename, mode='r') as csv_file:\n",
    "      csv_reader = csv.DictReader(csv_file)\n",
    "      for row in csv_reader:\n",
    "         c.execute(\"SELECT SEQN FROM bowel_health WHERE SEQN = '\" +row[\"SEQN\"] + \"'\")\n",
    "         if c.fetchone() == None:\n",
    "            c.execute(\"INSERT INTO bowel_health (SEQN, BHQ010, BHQ020, BHQ030, BHQ040, BHD050) VALUES(?, ?, ?, ?, ?, ?)\", (\n",
    "                row[\"SEQN\"], row[\"BHQ010\"], row[\"BHQ020\"], row[\"BHQ030\"],\n",
    "                row[\"BHQ040\"], row[\"BHD050\"]))\n",
    "conn.commit()"
   ]
  },
  {
   "cell_type": "code",
   "execution_count": 11,
   "metadata": {},
   "outputs": [
    {
     "data": {
      "text/plain": [
       "<sqlite3.Cursor at 0x7f33446942d0>"
      ]
     },
     "execution_count": 11,
     "metadata": {},
     "output_type": "execute_result"
    }
   ],
   "source": [
    "c.execute(\"UPDATE bowel_health SET BHQ010_b = 1 WHERE BHQ010 BETWEEN 1 AND 5\")\n",
    "c.execute(\"UPDATE bowel_health SET BHQ020_b = 1 WHERE BHQ020 BETWEEN 1 AND 5\")\n",
    "c.execute(\"UPDATE bowel_health SET BHQ030_b = 1 WHERE BHQ030 BETWEEN 1 AND 5\")\n",
    "c.execute(\"UPDATE bowel_health SET BHQ040_b = 1 WHERE BHQ040 BETWEEN 1 AND 5\")\n",
    "c.execute(\"UPDATE bowel_health SET BHD050_b = 1 WHERE BHD050 BETWEEN 1 AND 63\")"
   ]
  },
  {
   "cell_type": "code",
   "execution_count": 12,
   "metadata": {},
   "outputs": [
    {
     "data": {
      "text/plain": [
       "<sqlite3.Cursor at 0x7f33446942d0>"
      ]
     },
     "execution_count": 12,
     "metadata": {},
     "output_type": "execute_result"
    }
   ],
   "source": [
    "c.execute(\"DROP TABLE IF EXISTS nutrition\")\n",
    "conn.commit()\n",
    "c.execute('''CREATE TABLE IF NOT EXISTS nutrition(\n",
    "      SEQN integer, \n",
    "      DBQ010 integer, \n",
    "      DBQ010_b integer DEFAULT 0,\n",
    "      DBD030 integer, \n",
    "      DBD030_b integer DEFAULT 0,\n",
    "      DBQ700 integer, \n",
    "      DBQ700_b integer DEFAULT 0,\n",
    "      DBQ197 integer, \n",
    "      DBQ197_b integer DEFAULT 0,\n",
    "      DBQ229 integer, \n",
    "      DBQ229_b integer DEFAULT 0,\n",
    "      DBQ235A integer, \n",
    "      DBQ235A_b integer DEFAULT 0,\n",
    "      DBQ235B integer, \n",
    "      DBQ235B_b integer DEFAULT 0,\n",
    "      DBQ235C integer,\n",
    "      DBQ235C_b integer DEFAULT 0,\n",
    "      DBQ424  integer, \n",
    "      DBQ424_b integer DEFAULT 0,\n",
    "      DBD895 integer, \n",
    "      DBD895_b integer DEFAULT 0,\n",
    "      DBD900 integer, \n",
    "      DBD900_b integer DEFAULT 0,\n",
    "      DBD905 integer, \n",
    "      DBD905_b integer DEFAULT 0,\n",
    "      DBD910 integer, \n",
    "      DBD910_b integer DEFAULT 0,\n",
    "      DBQ915 integer, \n",
    "      DBQ915_b integer DEFAULT 0,\n",
    "      DBQ920 integer, \n",
    "      DBQ920_b integer DEFAULT 0,\n",
    "      DBQ925A integer, \n",
    "      DBQ925A_b integer DEFAULT 0,\n",
    "      DBQ925B integer, \n",
    "      DBQ925B_b integer DEFAULT 0,\n",
    "      DBQ925C integer, \n",
    "      DBQ925C_b integer DEFAULT 0,\n",
    "      DBQ925D integer, \n",
    "      DBQ925D_b integer DEFAULT 0,\n",
    "      DBQ925E integer, \n",
    "      DBQ925E_b integer DEFAULT 0,\n",
    "      DBQ925F integer, \n",
    "      DBQ925F_b integer DEFAULT 0,\n",
    "      DBQ925G integer, \n",
    "      DBQ925G_b integer DEFAULT 0,\n",
    "      DBQ925H integer,\n",
    "      DBQ925H_b integer DEFAULT 0,\n",
    "      DBQ925I integer, \n",
    "      DBQ925I_b integer DEFAULT 0,\n",
    "      DBQ925J integer, \n",
    "      DBQ925J_b integer DEFAULT 0\n",
    "   )''')\n",
    "\n",
    "c.execute(\"CREATE INDEX seqn_nutrition on nutrition (SEQN)\")"
   ]
  },
  {
   "cell_type": "code",
   "execution_count": 13,
   "metadata": {},
   "outputs": [],
   "source": [
    "files = [\"data/2007-2008/DBQ_E.csv\", \"data/2009-2010/DBQ_F.csv\"]\n",
    "for filename in files:\n",
    "    with open(filename, mode='r') as csv_file:\n",
    "          csv_reader = csv.DictReader(csv_file)\n",
    "          for row in csv_reader:\n",
    "             c.execute(\"SELECT SEQN FROM nutrition WHERE SEQN = '\" +row[\"SEQN\"] + \"'\")\n",
    "             if c.fetchone() == None:\n",
    "                c.execute(\"INSERT INTO nutrition (SEQN, DBQ010, DBD030, DBQ700, DBQ197, DBQ229, DBQ235A, DBQ235B, DBQ235C, DBQ424, DBD895, DBD900, DBD905, DBD910, DBQ915, DBQ920, DBQ925A, DBQ925B, DBQ925C, DBQ925D, DBQ925E, DBQ925F, DBQ925G, DBQ925H, DBQ925I, DBQ925J) VALUES (?, ?, ?, ?, ?, ?, ?, ?, ?, ?, ?, ?, ?, ?, ?, ?, ?, ?, ?, ?, ?, ?, ?, ?, ?, ?)\", (\n",
    "                    row[\"SEQN\"],   row[\"DBQ010\"], row[\"DBD030\"],  row[\"DBQ700\"],\n",
    "                    row[\"DBQ197\"], row[\"DBQ229\"], row[\"DBQ235A\"],\n",
    "                    row[\"DBQ235B\"], row[\"DBQ235C\"], row[\"DBQ424\"], row[\"DBD895\"], row[\"DBD900\"],\n",
    "                    row[\"DBD905\"], row[\"DBD910\"], row[\"DBQ915\"], row[\"DBQ920\"], row[\"DBQ925A\"], row[\"DBQ925B\"],\n",
    "                    row[\"DBQ925C\"], row[\"DBQ925D\"], row[\"DBQ925E\"], row[\"DBQ925F\"], row[\"DBQ925G\"], row[\"DBQ925H\"],\n",
    "                    row[\"DBQ925I\"], row[\"DBQ925J\"]))\n",
    "conn.commit()"
   ]
  },
  {
   "cell_type": "code",
   "execution_count": 14,
   "metadata": {},
   "outputs": [
    {
     "data": {
      "text/plain": [
       "<sqlite3.Cursor at 0x7f33446942d0>"
      ]
     },
     "execution_count": 14,
     "metadata": {},
     "output_type": "execute_result"
    }
   ],
   "source": [
    "c.execute(\"UPDATE nutrition SET DBQ010_b = 1 WHERE DBQ010 = 2\")\n",
    "c.execute(\"UPDATE nutrition SET DBQ700_b = 1 WHERE DBQ700 > 3\")\n",
    "c.execute(\"UPDATE nutrition SET DBQ197_b = 1 WHERE DBQ197 > 1\")\n",
    "c.execute(\"UPDATE nutrition SET DBQ229_b = 1 WHERE DBQ229 < 7\")\n",
    "c.execute(\"UPDATE nutrition SET DBQ235A_b = 1 WHERE DBQ235A < 7\")\n",
    "c.execute(\"UPDATE nutrition SET DBD895_b = 1 WHERE DBD895 BETWEEN 1 AND 21\")\n",
    "c.execute(\"UPDATE nutrition SET DBD900_b = 1 WHERE DBD900 BETWEEN 1 AND 5555\")\n",
    "c.execute(\"UPDATE nutrition SET DBD905_b = 1 WHERE DBD905 BETWEEN 1 AND 150\")\n",
    "c.execute(\"UPDATE nutrition SET DBD910_b = 1 WHERE DBD910 BETWEEN 1 AND 180\")\n",
    "c.execute(\"UPDATE nutrition SET DBQ920_b = 1 WHERE DBQ920 IN (1)\")\n",
    "c.execute(\"UPDATE nutrition SET DBQ925A_b = 1 WHERE DBQ925A IN (10)\")\n",
    "c.execute(\"UPDATE nutrition SET DBQ925B_b = 1 WHERE DBQ925B IN (11)\")\n",
    "c.execute(\"UPDATE nutrition SET DBQ925C_b = 1 WHERE DBQ925C IN (12)\")\n",
    "c.execute(\"UPDATE nutrition SET DBQ925D_b = 1 WHERE DBQ925D IN (13)\")\n",
    "c.execute(\"UPDATE nutrition SET DBQ925E_b = 1 WHERE DBQ925E IN (14)\")\n",
    "c.execute(\"UPDATE nutrition SET DBQ925F_b = 1 WHERE DBQ925F IN (15)\")\n",
    "c.execute(\"UPDATE nutrition SET DBQ925G_b = 1 WHERE DBQ925G IN (16)\")\n",
    "c.execute(\"UPDATE nutrition SET DBQ925H_b = 1 WHERE DBQ925H IN (17)\")\n",
    "c.execute(\"UPDATE nutrition SET DBQ925I_b = 1 WHERE DBQ925I IN (18)\")\n",
    "c.execute(\"UPDATE nutrition SET DBQ925J_b = 1 WHERE DBQ925J IN (19)\")"
   ]
  },
  {
   "cell_type": "code",
   "execution_count": 15,
   "metadata": {},
   "outputs": [
    {
     "data": {
      "text/plain": [
       "<sqlite3.Cursor at 0x7f33446942d0>"
      ]
     },
     "execution_count": 15,
     "metadata": {},
     "output_type": "execute_result"
    }
   ],
   "source": [
    "c.execute(\"DROP TABLE IF EXISTS health_status\")\n",
    "conn.commit()\n",
    "c.execute('''CREATE TABLE IF NOT EXISTS health_status(\n",
    "     SEQN integer,\n",
    "     HSQ470 integer,\n",
    "     HSQ470_b integer DEFAULT 0,\n",
    "     HSQ480 integer,\n",
    "     HSQ480_b integer DEFAULT 0,\n",
    "     HSQ490 integer,\n",
    "     HSQ490_b integer DEFAULT 0,\n",
    "     HSQ493 integer,\n",
    "     HSQ493_b integer DEFAULT 0,\n",
    "     HSQ496 integer,\n",
    "     HSQ496_b integer DEFAULT 0,\n",
    "     HSQ500 integer,\n",
    "     HSQ500_b integer DEFAULT 0,\n",
    "     HSQ510 integer,\n",
    "     HSQ510_b integer DEFAULT 0)''')\n",
    "\n",
    "c.execute(\"CREATE INDEX seqn_health on health_status (SEQN)\")"
   ]
  },
  {
   "cell_type": "code",
   "execution_count": 16,
   "metadata": {},
   "outputs": [],
   "source": [
    "files = [\"data/2007-2008/HSQ_E.csv\", \"data/2009-2010/HSQ_F.csv\"]\n",
    "for filename in files:\n",
    "    with open(filename, mode='r') as csv_file:\n",
    "      csv_reader = csv.DictReader(csv_file)\n",
    "      for row in csv_reader:\n",
    "         c.execute(\"SELECT SEQN FROM health_status WHERE SEQN = '\" +\n",
    "                   row[\"SEQN\"] + \"'\")\n",
    "         if c.fetchone() == None:\n",
    "            c.execute(\"INSERT INTO health_status(SEQN, HSQ470, HSQ480, HSQ490, HSQ493, HSQ496, HSQ500, HSQ510) VALUES(?, ?, ?, ?, ?, ?, ?, ?)\", (row[\"SEQN\"],\n",
    "                  row[\"HSQ470\"], row[\"HSQ480\"], row[\"HSQ490\"], row[\"HSQ493\"], row[\"HSQ496\"], row[\"HSQ500\"], row[\"HSQ510\"]))\n",
    "\n",
    "conn.commit()"
   ]
  },
  {
   "cell_type": "code",
   "execution_count": 17,
   "metadata": {},
   "outputs": [
    {
     "data": {
      "text/plain": [
       "<sqlite3.Cursor at 0x7f33446942d0>"
      ]
     },
     "execution_count": 17,
     "metadata": {},
     "output_type": "execute_result"
    }
   ],
   "source": [
    "c.execute(\"UPDATE health_status SET HSQ470_b = 1 WHERE HSQ470 = 1\")\n",
    "c.execute(\"UPDATE health_status SET HSQ480_b = 1 WHERE HSQ480 BETWEEN 10 AND 30\")\n",
    "c.execute(\"UPDATE health_status SET HSQ490_b = 1 WHERE HSQ490 BETWEEN 10 AND 30\")\n",
    "c.execute(\"UPDATE health_status SET HSQ493_b = 1 WHERE HSQ493 BETWEEN 10 AND 30\")\n",
    "c.execute(\"UPDATE health_status SET HSQ496_b = 1 WHERE HSQ496 BETWEEN 10 AND 30\")\n",
    "c.execute(\"UPDATE health_status SET HSQ500_b = 1 WHERE HSQ500 = 1\")\n",
    "c.execute(\"UPDATE health_status SET HSQ510_b = 1 WHERE HSQ510 IN (1)\")"
   ]
  },
  {
   "cell_type": "code",
   "execution_count": 18,
   "metadata": {},
   "outputs": [
    {
     "data": {
      "text/plain": [
       "<sqlite3.Cursor at 0x7f33446942d0>"
      ]
     },
     "execution_count": 18,
     "metadata": {},
     "output_type": "execute_result"
    }
   ],
   "source": [
    "c.execute(\"DROP TABLE IF EXISTS consumer_behavior\")\n",
    "conn.commit()\n",
    "c.execute('''CREATE TABLE IF NOT EXISTS consumer_behavior(\n",
    "  SEQN integer, \n",
    "  CBD010 integer, \n",
    "  CBD010_b integer DEFAULT 0,\n",
    "  CBQ020 integer, \n",
    "  CBQ020_b integer DEFAULT 0,\n",
    "  CBQ030 integer, \n",
    "  CBQ030_b integer DEFAULT 0,\n",
    "  CBQ040 integer, \n",
    "  CBQ040_b integer DEFAULT 0,\n",
    "  CBQ050 integer, \n",
    "  CBQ050_b integer DEFAULT 0,\n",
    "  CBQ060 integer, \n",
    "  CBQ060_b integer DEFAULT 0\n",
    ")''')\n",
    "\n",
    "c.execute(\"CREATE INDEX seqn_consumer on consumer_behavior (SEQN)\")"
   ]
  },
  {
   "cell_type": "code",
   "execution_count": 19,
   "metadata": {},
   "outputs": [],
   "source": [
    "files = [\"data/2007-2008/CBQ_E.csv\", \"data/2009-2010/CBQ_F.csv\"]\n",
    "for filename in files:\n",
    "    with open(filename, mode='r') as csv_file:\n",
    "      csv_reader = csv.DictReader(csv_file)\n",
    "      for row in csv_reader:\n",
    "         c.execute(\"SELECT SEQN FROM consumer_behavior WHERE SEQN = '\" +\n",
    "                   row[\"SEQN\"] + \"'\")\n",
    "         if c.fetchone() == None:\n",
    "            # print(row)\n",
    "            c.execute(\"INSERT INTO consumer_behavior (SEQN, CBD010, CBQ020, CBQ030, CBQ040, CBQ050, CBQ060) VALUES (?, ?, ?, ?, ?, ?, ?)\", (\n",
    "                row[\"SEQN\"],   row[\"CBD010\"], row[\"CBQ020\"], row[\"CBQ030\"], row[\"CBQ040\"],\n",
    "                row[\"CBQ050\"], row[\"CBQ060\"]))\n",
    "conn.commit()"
   ]
  },
  {
   "cell_type": "code",
   "execution_count": 20,
   "metadata": {},
   "outputs": [
    {
     "data": {
      "text/plain": [
       "<sqlite3.Cursor at 0x7f33446942d0>"
      ]
     },
     "execution_count": 20,
     "metadata": {},
     "output_type": "execute_result"
    }
   ],
   "source": [
    "c.execute(\"UPDATE consumer_behavior SET CBD010_b = 1 WHERE CBD010 = 1\")\n",
    "c.execute(\"UPDATE consumer_behavior SET CBQ020_b = 1 WHERE CBQ020 IN (4,5)\")\n",
    "c.execute(\"UPDATE consumer_behavior SET CBQ030_b = 1 WHERE CBQ030 IN (4,5)\")\n",
    "c.execute(\"UPDATE consumer_behavior SET CBQ040_b = 1 WHERE CBQ040 IN (1,2,3)\")\n",
    "c.execute(\"UPDATE consumer_behavior SET CBQ050_b = 1 WHERE CBQ050 IN (4,5)\")\n",
    "c.execute(\"UPDATE consumer_behavior SET CBQ060_b = 1 WHERE CBQ060 IN (1,2,3)\")"
   ]
  },
  {
   "cell_type": "code",
   "execution_count": 21,
   "metadata": {},
   "outputs": [
    {
     "data": {
      "text/plain": [
       "<sqlite3.Cursor at 0x7f33446942d0>"
      ]
     },
     "execution_count": 21,
     "metadata": {},
     "output_type": "execute_result"
    }
   ],
   "source": [
    "c.execute(\"DROP TABLE IF EXISTS alcohol_use\")\n",
    "conn.commit()\n",
    "c.execute('''CREATE TABLE alcohol_use(\n",
    "  SEQN int,\n",
    "  ALQ101 integer,\n",
    "  ALQ101_b integer DEFAULT 0,\n",
    "  ALQ110 integer,\n",
    "  ALQ110_b integer DEFAULT 0,\n",
    "  ALQ120Q integer,\n",
    "  ALQ120Q_b integer DEFAULT 0,\n",
    "  ALQ120U integer,\n",
    "  ALQ120U_b integer DEFAULT 0,\n",
    "  ALQ130 integer,\n",
    "  ALQ130_b integer DEFAULT 0,\n",
    "  ALQ140Q integer,\n",
    "  ALQ140Q_b integer DEFAULT 0,\n",
    "  ALQ140U integer,\n",
    "  ALQ140U_b integer DEFAULT 0,\n",
    "  ALQ150 integer,\n",
    "  ALQ150_b integer DEFAULT 0\n",
    ")''')\n",
    "\n",
    "c.execute(\"CREATE INDEX seqn_alcohol on alcohol_use (SEQN)\")"
   ]
  },
  {
   "cell_type": "code",
   "execution_count": 22,
   "metadata": {},
   "outputs": [],
   "source": [
    "files = [\"data/2007-2008/ALQ_E.csv\", \"data/2009-2010/ALQ_F.csv\"]\n",
    "for filename in files:\n",
    "    with open(filename, mode='r') as csv_file:\n",
    "        csv_reader = csv.DictReader(csv_file)\n",
    "        for row in csv_reader:\n",
    "         c.execute(\"SELECT SEQN FROM alcohol_use WHERE SEQN = '\" + row[\"SEQN\"] + \"'\")\n",
    "         if c.fetchone() == None:\n",
    "\n",
    "            c.execute(\"INSERT INTO alcohol_use (SEQN, ALQ101, ALQ110, ALQ120Q, ALQ120U, ALQ130 , ALQ140Q , ALQ140U , ALQ150) VALUES(?, ?, ?, ?, ?, ?, ?, ?, ?)\", (\n",
    "            row[\"SEQN\"], row[\"ALQ101\"], row[\"ALQ110\"], row[\"ALQ120Q\"], row[\"ALQ120U\"], row[\"ALQ130\"], row[\"ALQ140Q\"], row[\"ALQ140U\"], row[\"ALQ150\"]))\n",
    "    conn.commit()"
   ]
  },
  {
   "cell_type": "code",
   "execution_count": 23,
   "metadata": {},
   "outputs": [
    {
     "data": {
      "text/plain": [
       "<sqlite3.Cursor at 0x7f33446942d0>"
      ]
     },
     "execution_count": 23,
     "metadata": {},
     "output_type": "execute_result"
    }
   ],
   "source": [
    "c.execute(\"UPDATE alcohol_use SET ALQ101_b = 1 WHERE ALQ101 = 1\")\n",
    "c.execute(\"UPDATE alcohol_use SET ALQ120Q_b = 1 WHERE ALQ120Q BETWEEN 1 AND 366\")\n",
    "c.execute(\"UPDATE alcohol_use SET ALQ120U_b = 1 WHERE ALQ120U < 4\")\n",
    "c.execute(\"UPDATE alcohol_use SET ALQ130_b = 1 WHERE ALQ130 BETWEEN 1 AND 36\")\n",
    "c.execute(\"UPDATE alcohol_use SET ALQ140Q_b = 1 WHERE ALQ140Q BETWEEN 1 AND 304\")\n",
    "c.execute(\"UPDATE alcohol_use SET ALQ140U_b = 1 WHERE ALQ140U < 4\")\n",
    "c.execute(\"UPDATE alcohol_use SET ALQ150_b = 1 WHERE ALQ150 = 1\")"
   ]
  },
  {
   "cell_type": "code",
   "execution_count": 29,
   "metadata": {},
   "outputs": [
    {
     "data": {
      "text/plain": [
       "<sqlite3.Cursor at 0x7f33445b3730>"
      ]
     },
     "execution_count": 29,
     "metadata": {},
     "output_type": "execute_result"
    }
   ],
   "source": [
    "c.execute(\"DROP TABLE IF EXISTS ferritin\")\n",
    "conn.commit()\n",
    "c.execute('''CREATE TABLE ferritin(\n",
    "  SEQN int,\n",
    "  LBXFER integer,\n",
    "  LBXFER_b integer DEFAULT 0\n",
    ")''')\n",
    "\n",
    "c.execute(\"CREATE INDEX seqn_ferritin on ferritin (SEQN)\")"
   ]
  },
  {
   "cell_type": "code",
   "execution_count": 30,
   "metadata": {},
   "outputs": [],
   "source": [
    "files = [\"data/2007-2008/FERTIN_E.csv\", \"data/2009-2010/FERTIN_F.csv\"]\n",
    "for filename in files:   \n",
    "   with open(filename, mode='r') as csv_file:\n",
    "      csv_reader = csv.DictReader(csv_file)\n",
    "      for row in csv_reader:\n",
    "         c.execute(\"SELECT SEQN FROM ferritin WHERE SEQN = '\" +\n",
    "                   row[\"SEQN\"] + \"'\")\n",
    "         if c.fetchone() == None:\n",
    "            c.execute(\"INSERT INTO ferritin(SEQN, LBXFER) VALUES(?, ?)\", (\n",
    "               row[\"SEQN\"], row[\"LBXFER\"]))\n",
    "   conn.commit()"
   ]
  },
  {
   "cell_type": "code",
   "execution_count": 31,
   "metadata": {},
   "outputs": [
    {
     "data": {
      "text/plain": [
       "<sqlite3.Cursor at 0x7f33445b3730>"
      ]
     },
     "execution_count": 31,
     "metadata": {},
     "output_type": "execute_result"
    }
   ],
   "source": [
    "#female 10-120 ng/ml\n",
    "#male 20-250 ng/ml\n",
    "c.execute(\"UPDATE ferritin SET LBXFER = 80 WHERE LBXFER = 'nan'\")\n",
    "conn.commit()\n",
    "gender = \"SELECT RIAGENDR from basic_information where basic_information.SEQN = ferritin.SEQN AND LBXFER != 'nan' AND ((RIAGENDR = 2 AND (LBXFER < 10 OR LBXFER > 120)) OR (RIAGENDR = 1 AND (LBXFER < 20 OR LBXFER > 250)))\"\n",
    "c.execute(\"UPDATE ferritin SET LBXFER_b = 1 WHERE EXISTS (\"+gender+\")\")"
   ]
  },
  {
   "cell_type": "code",
   "execution_count": 32,
   "metadata": {},
   "outputs": [
    {
     "data": {
      "text/plain": [
       "<sqlite3.Cursor at 0x7f33445b3730>"
      ]
     },
     "execution_count": 32,
     "metadata": {},
     "output_type": "execute_result"
    }
   ],
   "source": [
    "c.execute(\"DROP TABLE IF EXISTS patients\")\n",
    "# # c.execute(\"CREATE TABLE patients as select * from consumer_behavior, bowel_health, alcohol_use where consumer_behavior.SEQN = bowel_health.SEQN\")\n",
    "bowel_health = \"BHQ010_b, BHQ020_b, BHQ030_b, BHQ040_b, BHD050_b \"\n",
    "alcohol_use = \"ALQ101_b, ALQ120Q_b, ALQ120U_b, ALQ130_b, ALQ140Q_b, ALQ140U_b, ALQ150_b \"\n",
    "consumer_behavior = \"CBD010_b, CBQ020_b, CBQ030_b, CBQ040_b, CBQ050_b, CBQ060_b \"\n",
    "nutrition = \"DBQ010_b, DBQ700_b, DBQ197_b, DBQ229_b, DBQ235A_b, DBD895_b, DBD900_b, DBD905_b, DBD910_b, DBQ920_b, DBQ925A_b, DBQ925B_b, DBQ925C_b, DBQ925D_b, DBQ925E_b, DBQ925F_b, DBQ925G_b, DBQ925H_b, DBQ925I_b, DBQ925J_b\"\n",
    "\n",
    "registers = bowel_health+\",\"+alcohol_use+\",\"+consumer_behavior+\",\"+nutrition\n",
    "\n",
    "#selecting patients with bowel disease\n",
    "query = \"CREATE TABLE patients AS SELECT bowel_health.SEQN as SEQN, \"+registers + \\\n",
    "   \" FROM consumer_behavior join bowel_health on bowel_health.SEQN = consumer_behavior.SEQN join nutrition on nutrition.SEQN = consumer_behavior.SEQN join alcohol_use on alcohol_use.SEQN = consumer_behavior.SEQN join health_status on health_status.SEQN = consumer_behavior.SEQN WHERE health_status.HSQ510_b = 1\"\n",
    "\n",
    "c.execute(query)\n",
    "c.execute(\"ALTER TABLE patients ADD COLUMN bowel_profile text\")\n",
    "c.execute(\"ALTER TABLE patients ADD COLUMN alcohol_profile text\")\n",
    "c.execute(\"ALTER TABLE patients ADD COLUMN consumer_profile text\")\n",
    "c.execute(\"ALTER TABLE patients ADD COLUMN nutrition_profile text\")\n",
    "c.execute(\"CREATE INDEX seqn_patient on patients (SEQN)\")"
   ]
  },
  {
   "cell_type": "code",
   "execution_count": 34,
   "metadata": {},
   "outputs": [
    {
     "ename": "NameError",
     "evalue": "name 'pd' is not defined",
     "output_type": "error",
     "traceback": [
      "\u001b[0;31m---------------------------------------------------------------------------\u001b[0m",
      "\u001b[0;31mNameError\u001b[0m                                 Traceback (most recent call last)",
      "\u001b[0;32m<ipython-input-34-1fcc5c3ede6c>\u001b[0m in \u001b[0;36m<module>\u001b[0;34m\u001b[0m\n\u001b[1;32m      1\u001b[0m \u001b[0mconn\u001b[0m\u001b[0;34m.\u001b[0m\u001b[0mrow_factory\u001b[0m \u001b[0;34m=\u001b[0m \u001b[0msqlite3\u001b[0m\u001b[0;34m.\u001b[0m\u001b[0mRow\u001b[0m\u001b[0;34m\u001b[0m\u001b[0;34m\u001b[0m\u001b[0m\n\u001b[0;32m----> 2\u001b[0;31m \u001b[0mrows\u001b[0m \u001b[0;34m=\u001b[0m \u001b[0mpd\u001b[0m\u001b[0;34m.\u001b[0m\u001b[0mread_sql_query\u001b[0m\u001b[0;34m(\u001b[0m\u001b[0;34m\"SELECT * FROM patients\"\u001b[0m\u001b[0;34m,\u001b[0m \u001b[0mconn\u001b[0m\u001b[0;34m)\u001b[0m\u001b[0;34m\u001b[0m\u001b[0;34m\u001b[0m\u001b[0m\n\u001b[0m",
      "\u001b[0;31mNameError\u001b[0m: name 'pd' is not defined"
     ]
    }
   ],
   "source": [
    "conn.row_factory = sqlite3.Row\n",
    "rows = pd.read_sql_query(\"SELECT * FROM patients\", conn)"
   ]
  },
  {
   "cell_type": "code",
   "execution_count": null,
   "metadata": {},
   "outputs": [],
   "source": [
    "str1 = bowel_health.replace(\",\", \" ||\")\n",
    "str2 = alcohol_use.replace(\",\", \" ||\")\n",
    "str3 = consumer_behavior.replace(\",\", \" ||\")\n",
    "str4 = nutrition.replace(\",\", \" ||\")\n",
    "\n",
    "query = \"SELECT \"+str1+\" AS bowel_profile, \"+str2 + \" AS alcohol_profile, \"+str3+\" AS consumer_profile, \"+str4+\" AS nutrition_profile, SEQN FROM patients\"\n",
    "# print(query)\n",
    "queries = []\n",
    "for row in c.execute(query):\n",
    "  sql = \"UPDATE patients SET bowel_profile = '\" + str(row[0])+\"' , alcohol_profile = '\"+str(\n",
    "      row[1])+\"' , consumer_profile = '\"+str(row[2])+\"' , nutrition_profile = '\"+ str(row[3])+\"' WHERE SEQN = '\" + str(row[4]) + \"'\"\n",
    "  queries.append(sql)\n",
    "\n",
    "for sql in queries:\n",
    "      c.execute(sql)\n",
    "conn.commit()"
   ]
  },
  {
   "cell_type": "code",
   "execution_count": null,
   "metadata": {},
   "outputs": [],
   "source": []
  }
 ],
 "metadata": {
  "kernelspec": {
   "display_name": "Python 3",
   "language": "python",
   "name": "python3"
  },
  "language_info": {
   "codemirror_mode": {
    "name": "ipython",
    "version": 3
   },
   "file_extension": ".py",
   "mimetype": "text/x-python",
   "name": "python",
   "nbconvert_exporter": "python",
   "pygments_lexer": "ipython3",
   "version": "3.7.3"
  }
 },
 "nbformat": 4,
 "nbformat_minor": 2
}
